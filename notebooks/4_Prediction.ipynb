{
 "cells": [
  {
   "cell_type": "code",
   "execution_count": 2,
   "id": "8c8ed46e-5245-4eef-845c-6661374191fb",
   "metadata": {},
   "outputs": [
    {
     "name": "stdout",
     "output_type": "stream",
     "text": [
      "/Users/andyvillanuevamartinez/Library/CloudStorage/GoogleDrive-villanuevaoct@gmail.com/My Drive/MAC/cursos/machine_learning/15_udacity_nanodegree_ds/11. capstone/sbux_recommendation\n"
     ]
    }
   ],
   "source": [
    "cd '../'"
   ]
  },
  {
   "cell_type": "code",
   "execution_count": 3,
   "id": "bdbf54f1-e76f-49f2-8823-53b8c51b515b",
   "metadata": {},
   "outputs": [],
   "source": [
    "import numpy as np\n",
    "import pandas as pd\n",
    "import joblib\n",
    "\n",
    "from sklearn.preprocessing import MinMaxScaler\n",
    "from scipy.spatial.distance import euclidean\n",
    "\n",
    "import warnings\n",
    "warnings.filterwarnings(\"ignore\")"
   ]
  },
  {
   "cell_type": "code",
   "execution_count": 4,
   "id": "e7dceaf9-99da-4349-a332-53ecfb973d19",
   "metadata": {},
   "outputs": [],
   "source": [
    "best_channel_model = joblib.load('objects/best_channel.pkl')\n",
    "spend_model = joblib.load('objects/spend.pkl')\n",
    "cuts = np.load('objects/cuts_spend.npy')\n",
    "ttc_offer = joblib.load('objects/ttc_offer.pkl')"
   ]
  },
  {
   "cell_type": "code",
   "execution_count": 5,
   "id": "193d56f3-c108-42e9-ab54-64b1cfbcb6fb",
   "metadata": {},
   "outputs": [
    {
     "data": {
      "text/html": [
       "<div>\n",
       "<style scoped>\n",
       "    .dataframe tbody tr th:only-of-type {\n",
       "        vertical-align: middle;\n",
       "    }\n",
       "\n",
       "    .dataframe tbody tr th {\n",
       "        vertical-align: top;\n",
       "    }\n",
       "\n",
       "    .dataframe thead th {\n",
       "        text-align: right;\n",
       "    }\n",
       "</style>\n",
       "<table border=\"1\" class=\"dataframe\">\n",
       "  <thead>\n",
       "    <tr style=\"text-align: right;\">\n",
       "      <th></th>\n",
       "      <th>id</th>\n",
       "      <th>offer_type</th>\n",
       "      <th>flag_mobile</th>\n",
       "      <th>flag_web</th>\n",
       "      <th>flag_social</th>\n",
       "      <th>difficulty</th>\n",
       "      <th>duration</th>\n",
       "    </tr>\n",
       "  </thead>\n",
       "  <tbody>\n",
       "    <tr>\n",
       "      <th>0</th>\n",
       "      <td>ae264e3637204a6fb9bb56bc8210ddfd</td>\n",
       "      <td>bogo</td>\n",
       "      <td>1.0</td>\n",
       "      <td>0.0</td>\n",
       "      <td>1.0</td>\n",
       "      <td>0.50</td>\n",
       "      <td>0.571429</td>\n",
       "    </tr>\n",
       "    <tr>\n",
       "      <th>1</th>\n",
       "      <td>4d5c57ea9a6940dd891ad53e9dbe8da0</td>\n",
       "      <td>bogo</td>\n",
       "      <td>1.0</td>\n",
       "      <td>1.0</td>\n",
       "      <td>1.0</td>\n",
       "      <td>0.50</td>\n",
       "      <td>0.285714</td>\n",
       "    </tr>\n",
       "    <tr>\n",
       "      <th>2</th>\n",
       "      <td>3f207df678b143eea3cee63160fa8bed</td>\n",
       "      <td>informational</td>\n",
       "      <td>1.0</td>\n",
       "      <td>1.0</td>\n",
       "      <td>0.0</td>\n",
       "      <td>0.00</td>\n",
       "      <td>0.142857</td>\n",
       "    </tr>\n",
       "    <tr>\n",
       "      <th>3</th>\n",
       "      <td>9b98b8c7a33c4b65b9aebfe6a799e6d9</td>\n",
       "      <td>bogo</td>\n",
       "      <td>1.0</td>\n",
       "      <td>1.0</td>\n",
       "      <td>0.0</td>\n",
       "      <td>0.25</td>\n",
       "      <td>0.571429</td>\n",
       "    </tr>\n",
       "    <tr>\n",
       "      <th>4</th>\n",
       "      <td>0b1e1539f2cc45b7b9fa7c272da2e1d7</td>\n",
       "      <td>discount</td>\n",
       "      <td>0.0</td>\n",
       "      <td>1.0</td>\n",
       "      <td>0.0</td>\n",
       "      <td>1.00</td>\n",
       "      <td>1.000000</td>\n",
       "    </tr>\n",
       "    <tr>\n",
       "      <th>5</th>\n",
       "      <td>2298d6c36e964ae4a3e7e9706d1fb8c2</td>\n",
       "      <td>discount</td>\n",
       "      <td>1.0</td>\n",
       "      <td>1.0</td>\n",
       "      <td>1.0</td>\n",
       "      <td>0.35</td>\n",
       "      <td>0.571429</td>\n",
       "    </tr>\n",
       "    <tr>\n",
       "      <th>6</th>\n",
       "      <td>fafdcd668e3743c1bb461111dcafc2a4</td>\n",
       "      <td>discount</td>\n",
       "      <td>1.0</td>\n",
       "      <td>1.0</td>\n",
       "      <td>1.0</td>\n",
       "      <td>0.50</td>\n",
       "      <td>1.000000</td>\n",
       "    </tr>\n",
       "    <tr>\n",
       "      <th>7</th>\n",
       "      <td>5a8bc65990b245e5a138643cd4eb9837</td>\n",
       "      <td>informational</td>\n",
       "      <td>1.0</td>\n",
       "      <td>0.0</td>\n",
       "      <td>1.0</td>\n",
       "      <td>0.00</td>\n",
       "      <td>0.000000</td>\n",
       "    </tr>\n",
       "    <tr>\n",
       "      <th>8</th>\n",
       "      <td>f19421c1d4aa40978ebb69ca19b0e20d</td>\n",
       "      <td>bogo</td>\n",
       "      <td>1.0</td>\n",
       "      <td>1.0</td>\n",
       "      <td>1.0</td>\n",
       "      <td>0.25</td>\n",
       "      <td>0.285714</td>\n",
       "    </tr>\n",
       "    <tr>\n",
       "      <th>9</th>\n",
       "      <td>2906b810c7d4411798c6938adc9daaa5</td>\n",
       "      <td>discount</td>\n",
       "      <td>1.0</td>\n",
       "      <td>1.0</td>\n",
       "      <td>0.0</td>\n",
       "      <td>0.50</td>\n",
       "      <td>0.571429</td>\n",
       "    </tr>\n",
       "  </tbody>\n",
       "</table>\n",
       "</div>"
      ],
      "text/plain": [
       "                                 id     offer_type  flag_mobile  flag_web  \\\n",
       "0  ae264e3637204a6fb9bb56bc8210ddfd           bogo          1.0       0.0   \n",
       "1  4d5c57ea9a6940dd891ad53e9dbe8da0           bogo          1.0       1.0   \n",
       "2  3f207df678b143eea3cee63160fa8bed  informational          1.0       1.0   \n",
       "3  9b98b8c7a33c4b65b9aebfe6a799e6d9           bogo          1.0       1.0   \n",
       "4  0b1e1539f2cc45b7b9fa7c272da2e1d7       discount          0.0       1.0   \n",
       "5  2298d6c36e964ae4a3e7e9706d1fb8c2       discount          1.0       1.0   \n",
       "6  fafdcd668e3743c1bb461111dcafc2a4       discount          1.0       1.0   \n",
       "7  5a8bc65990b245e5a138643cd4eb9837  informational          1.0       0.0   \n",
       "8  f19421c1d4aa40978ebb69ca19b0e20d           bogo          1.0       1.0   \n",
       "9  2906b810c7d4411798c6938adc9daaa5       discount          1.0       1.0   \n",
       "\n",
       "   flag_social  difficulty  duration  \n",
       "0          1.0        0.50  0.571429  \n",
       "1          1.0        0.50  0.285714  \n",
       "2          0.0        0.00  0.142857  \n",
       "3          0.0        0.25  0.571429  \n",
       "4          0.0        1.00  1.000000  \n",
       "5          1.0        0.35  0.571429  \n",
       "6          1.0        0.50  1.000000  \n",
       "7          1.0        0.00  0.000000  \n",
       "8          1.0        0.25  0.285714  \n",
       "9          0.0        0.50  0.571429  "
      ]
     },
     "execution_count": 5,
     "metadata": {},
     "output_type": "execute_result"
    }
   ],
   "source": [
    "scaler = MinMaxScaler()\n",
    "vec = ['flag_mobile','flag_web','flag_social','difficulty','duration']\n",
    "\n",
    "portfolio0 = pd.read_json('data/portfolio.json', orient = 'records', lines = True)\n",
    "portfolio = portfolio0.copy()\n",
    "portfolio['flag_mobile'] = portfolio.channels.astype(str).str.contains('mobile')*1\n",
    "portfolio['flag_web'] = portfolio.channels.astype(str).str.contains('web')*1\n",
    "portfolio['flag_social'] = portfolio.channels.astype(str).str.contains('social')*1\n",
    "del portfolio['channels']\n",
    "portfolio = portfolio[['id','offer_type'] + vec]\n",
    "portfolio[vec] = scaler.fit_transform(portfolio[vec])\n",
    "portfolio"
   ]
  },
  {
   "cell_type": "code",
   "execution_count": 6,
   "id": "2b907f3b",
   "metadata": {},
   "outputs": [
    {
     "data": {
      "text/plain": [
       "['objects/portfolio_scaled.pkl']"
      ]
     },
     "execution_count": 6,
     "metadata": {},
     "output_type": "execute_result"
    }
   ],
   "source": [
    "joblib.dump(portfolio, 'objects/portfolio_scaled.pkl', compress = True)"
   ]
  },
  {
   "cell_type": "code",
   "execution_count": 7,
   "id": "ee1ffc25",
   "metadata": {},
   "outputs": [
    {
     "data": {
      "text/plain": [
       "['objects/portfolio_scaler.pkl']"
      ]
     },
     "execution_count": 7,
     "metadata": {},
     "output_type": "execute_result"
    }
   ],
   "source": [
    "joblib.dump(scaler, 'objects/portfolio_scaler.pkl', compress = True)"
   ]
  },
  {
   "cell_type": "raw",
   "id": "f0cbfa6f-06c5-4f3c-8182-002a391e8345",
   "metadata": {
    "tags": []
   },
   "source": [
    "!pip install gradio\n",
    "!pip install -U typing_extensions"
   ]
  },
  {
   "cell_type": "code",
   "execution_count": 8,
   "id": "3889001a-e9f6-4791-8f3f-9a5518bc1adc",
   "metadata": {},
   "outputs": [],
   "source": [
    "import gradio as gr"
   ]
  },
  {
   "cell_type": "code",
   "execution_count": 9,
   "id": "d71e5e71-b7ef-4687-8f92-0fa984021e3a",
   "metadata": {},
   "outputs": [],
   "source": [
    "def get_recommendation(gender, age, income):\n",
    "    new_client = {'gender': gender, 'age': age, 'income': income}\n",
    "    new_client_df = pd.DataFrame(new_client, index=[0])\n",
    "    new_client_df[['flag_mobile','flag_web','flag_social']] = best_channel_model.predict(new_client_df) # mobile, web, social\n",
    "\n",
    "    position = int(round(spend_model.predict(new_client_df)[0],0))\n",
    "    if position >= 20:\n",
    "        spend = cuts[18]\n",
    "    elif position <= 1:\n",
    "        spend = cuts[0]\n",
    "    else:\n",
    "        spend = (cuts[position - 1] + cuts[position - 2]) / 2\n",
    "    new_client_df['difficulty'] = spend\n",
    "\n",
    "    new_client_df['duration'] = ttc_offer.predict(new_client_df)[0]\n",
    "    new_client_df[vec] = scaler.transform(new_client_df[vec])\n",
    "    row = new_client_df[vec].values\n",
    "    target_array = portfolio[vec].values\n",
    "    distances = np.apply_along_axis(lambda x: euclidean(row, x), axis=1, arr=target_array)\n",
    "    offer = portfolio0[portfolio0.index == np.argmin(distances)]\n",
    "    offer = offer.T.reset_index()\n",
    "    offer.columns = ['item', 'value']\n",
    "    offer = offer[::-1].reset_index(drop = True)\n",
    "    return offer"
   ]
  },
  {
   "cell_type": "code",
   "execution_count": 11,
   "id": "59bf0a4a-7360-4178-b4de-1c456ac87de6",
   "metadata": {},
   "outputs": [
    {
     "name": "stdout",
     "output_type": "stream",
     "text": [
      "Running on local URL:  http://127.0.0.1:7861\n",
      "\n",
      "To create a public link, set `share=True` in `launch()`.\n"
     ]
    },
    {
     "data": {
      "text/html": [
       "<div><iframe src=\"http://127.0.0.1:7861/\" width=\"100%\" height=\"500\" allow=\"autoplay; camera; microphone; clipboard-read; clipboard-write;\" frameborder=\"0\" allowfullscreen></iframe></div>"
      ],
      "text/plain": [
       "<IPython.core.display.HTML object>"
      ]
     },
     "metadata": {},
     "output_type": "display_data"
    },
    {
     "data": {
      "text/plain": []
     },
     "execution_count": 11,
     "metadata": {},
     "output_type": "execute_result"
    }
   ],
   "source": [
    "gender_input = gr.inputs.Radio(choices=['M', 'F'], label = 'Gender')\n",
    "age_input = gr.inputs.Slider(minimum = 18, maximum = 120, step = 1, label = 'Age')\n",
    "income_input = gr.inputs.Slider(minimum = 0, maximum = 500000, step = 1000, label = 'Income')\n",
    "output = gr.DataFrame(headers=['Selected Offer'], label='Results')#gr.outputs.Textbox(label = 'Recommendation')\n",
    "\n",
    "interface = gr.Interface(fn = get_recommendation, inputs = [gender_input, age_input, income_input], outputs = output, title = 'Recommendations ☕️',  allow_flagging = 'never')\n",
    "interface.launch()"
   ]
  },
  {
   "cell_type": "code",
   "execution_count": null,
   "id": "773de545-99a3-47f5-85cf-7d9390f2fcd0",
   "metadata": {},
   "outputs": [],
   "source": []
  },
  {
   "cell_type": "code",
   "execution_count": null,
   "id": "42c48b08-87e1-4c54-962a-557beb7f6b90",
   "metadata": {},
   "outputs": [],
   "source": []
  },
  {
   "cell_type": "code",
   "execution_count": null,
   "id": "b7696dc9-0a72-47f4-81b0-1d95c2b110ae",
   "metadata": {},
   "outputs": [],
   "source": []
  },
  {
   "cell_type": "code",
   "execution_count": null,
   "id": "8a8d3d5c-da1f-4bd1-a1f7-578f3a55a632",
   "metadata": {},
   "outputs": [],
   "source": []
  },
  {
   "cell_type": "code",
   "execution_count": null,
   "id": "455ea6f3-5b11-45d7-8730-0b0868964c75",
   "metadata": {},
   "outputs": [],
   "source": []
  },
  {
   "cell_type": "code",
   "execution_count": null,
   "id": "b8e6fac0-5f3d-48e4-bfea-7e6698b30043",
   "metadata": {},
   "outputs": [],
   "source": []
  },
  {
   "cell_type": "code",
   "execution_count": null,
   "id": "e4b69b37-45a0-48fa-81a2-fe648457ccb6",
   "metadata": {},
   "outputs": [],
   "source": []
  },
  {
   "cell_type": "code",
   "execution_count": 1,
   "id": "9f3521b9-2389-44dd-8a3f-cc8d3196c741",
   "metadata": {},
   "outputs": [
    {
     "name": "stdout",
     "output_type": "stream",
     "text": [
      "Collecting grip\n",
      "  Downloading grip-4.6.1-py3-none-any.whl (138 kB)\n",
      "\u001b[K     |████████████████████████████████| 138 kB 8.6 MB/s eta 0:00:01\n",
      "\u001b[?25hCollecting docopt>=0.4.0\n",
      "  Downloading docopt-0.6.2.tar.gz (25 kB)\n",
      "Requirement already satisfied: Flask>=0.10.1 in /Users/andyvillanuevamartinez/opt/anaconda3/lib/python3.8/site-packages (from grip) (1.1.2)\n",
      "Collecting Markdown>=2.5.1\n",
      "  Downloading Markdown-3.4.3-py3-none-any.whl (93 kB)\n",
      "\u001b[K     |████████████████████████████████| 93 kB 8.2 MB/s  eta 0:00:01\n",
      "\u001b[?25hRequirement already satisfied: requests>=2.4.1 in /Users/andyvillanuevamartinez/opt/anaconda3/lib/python3.8/site-packages (from grip) (2.25.1)\n",
      "Requirement already satisfied: Werkzeug>=0.7 in /Users/andyvillanuevamartinez/opt/anaconda3/lib/python3.8/site-packages (from grip) (1.0.1)\n",
      "Requirement already satisfied: Pygments>=1.6 in /Users/andyvillanuevamartinez/opt/anaconda3/lib/python3.8/site-packages (from grip) (2.15.1)\n",
      "Collecting path-and-address>=2.0.1\n",
      "  Downloading path-and-address-2.0.1.zip (6.5 kB)\n",
      "Requirement already satisfied: itsdangerous>=0.24 in /Users/andyvillanuevamartinez/opt/anaconda3/lib/python3.8/site-packages (from Flask>=0.10.1->grip) (1.1.0)\n",
      "Requirement already satisfied: click>=5.1 in /Users/andyvillanuevamartinez/opt/anaconda3/lib/python3.8/site-packages (from Flask>=0.10.1->grip) (7.1.2)\n",
      "Requirement already satisfied: Jinja2>=2.10.1 in /Users/andyvillanuevamartinez/opt/anaconda3/lib/python3.8/site-packages (from Flask>=0.10.1->grip) (2.11.3)\n",
      "Requirement already satisfied: MarkupSafe>=0.23 in /Users/andyvillanuevamartinez/opt/anaconda3/lib/python3.8/site-packages (from Jinja2>=2.10.1->Flask>=0.10.1->grip) (2.0.1)\n",
      "Collecting importlib-metadata>=4.4\n",
      "  Downloading importlib_metadata-6.7.0-py3-none-any.whl (22 kB)\n",
      "Requirement already satisfied: zipp>=0.5 in /Users/andyvillanuevamartinez/opt/anaconda3/lib/python3.8/site-packages (from importlib-metadata>=4.4->Markdown>=2.5.1->grip) (3.4.1)\n",
      "Requirement already satisfied: chardet<5,>=3.0.2 in /Users/andyvillanuevamartinez/opt/anaconda3/lib/python3.8/site-packages (from requests>=2.4.1->grip) (4.0.0)\n",
      "Requirement already satisfied: idna<3,>=2.5 in /Users/andyvillanuevamartinez/opt/anaconda3/lib/python3.8/site-packages (from requests>=2.4.1->grip) (2.10)\n",
      "Requirement already satisfied: urllib3<1.27,>=1.21.1 in /Users/andyvillanuevamartinez/opt/anaconda3/lib/python3.8/site-packages (from requests>=2.4.1->grip) (1.26.4)\n",
      "Requirement already satisfied: certifi>=2017.4.17 in /Users/andyvillanuevamartinez/opt/anaconda3/lib/python3.8/site-packages (from requests>=2.4.1->grip) (2020.12.5)\n",
      "Building wheels for collected packages: docopt, path-and-address\n",
      "  Building wheel for docopt (setup.py) ... \u001b[?25ldone\n",
      "\u001b[?25h  Created wheel for docopt: filename=docopt-0.6.2-py2.py3-none-any.whl size=13705 sha256=733497c323c7359048a85b21e75cde984155cb96b02253b9bedceef2c087af54\n",
      "  Stored in directory: /Users/andyvillanuevamartinez/Library/Caches/pip/wheels/56/ea/58/ead137b087d9e326852a851351d1debf4ada529b6ac0ec4e8c\n",
      "  Building wheel for path-and-address (setup.py) ... \u001b[?25ldone\n",
      "\u001b[?25h  Created wheel for path-and-address: filename=path_and_address-2.0.1-py3-none-any.whl size=4049 sha256=0c310a917d493df677d53c615648098eeb82156efed06b2bd3be0a268d5e395d\n",
      "  Stored in directory: /Users/andyvillanuevamartinez/Library/Caches/pip/wheels/74/d6/cc/a37ba62b05fa2cf8fa71c5bf27f3cc0ae9410fda2a9b70b5b2\n",
      "Successfully built docopt path-and-address\n",
      "Installing collected packages: importlib-metadata, path-and-address, Markdown, docopt, grip\n",
      "  Attempting uninstall: importlib-metadata\n",
      "    Found existing installation: importlib-metadata 3.10.0\n",
      "    Uninstalling importlib-metadata-3.10.0:\n",
      "      Successfully uninstalled importlib-metadata-3.10.0\n",
      "Successfully installed Markdown-3.4.3 docopt-0.6.2 grip-4.6.1 importlib-metadata-6.7.0 path-and-address-2.0.1\n"
     ]
    }
   ],
   "source": [
    "!pip install grip  "
   ]
  },
  {
   "cell_type": "code",
   "execution_count": 2,
   "id": "5e65ed6c",
   "metadata": {},
   "outputs": [],
   "source": [
    "import grip"
   ]
  },
  {
   "cell_type": "code",
   "execution_count": 4,
   "id": "9bb926b3-19a0-4009-830e-1ab09dd6188d",
   "metadata": {},
   "outputs": [
    {
     "ename": "SyntaxError",
     "evalue": "invalid syntax (<ipython-input-4-187047056e50>, line 1)",
     "output_type": "error",
     "traceback": [
      "\u001b[0;36m  File \u001b[0;32m\"<ipython-input-4-187047056e50>\"\u001b[0;36m, line \u001b[0;32m1\u001b[0m\n\u001b[0;31m    grip '5_report.md'\u001b[0m\n\u001b[0m         ^\u001b[0m\n\u001b[0;31mSyntaxError\u001b[0m\u001b[0;31m:\u001b[0m invalid syntax\n"
     ]
    }
   ],
   "source": [
    "grip '5_report.md'"
   ]
  },
  {
   "cell_type": "raw",
   "id": "dec08f02-65e9-41a6-bab2-6fe4552f3ab4",
   "metadata": {},
   "source": [
    "import tqdm\n",
    "from tqdm import tqdm"
   ]
  },
  {
   "cell_type": "raw",
   "id": "741052f3-7baa-48af-821d-9852c438ec6b",
   "metadata": {},
   "source": [
    "def calc_spend(position, cuts):\n",
    "    if position >= 20:\n",
    "        spend = cuts[18]\n",
    "    elif position <= 1:\n",
    "        spend = cuts[0]\n",
    "    else:\n",
    "        spend = (cuts[position - 1] + cuts[position - 2]) / 2\n",
    "        \n",
    "    return spend"
   ]
  },
  {
   "cell_type": "raw",
   "id": "dc080c32-e0ef-48b3-aa4a-58e884c50327",
   "metadata": {},
   "source": [
    "features = ['gender','age','income']\n",
    "\n",
    "profile = pd.read_json('data/profile.json', orient='records', lines=True)\n",
    "profile['age'] = np.where(profile['age']==118, np.nan, profile['age'])\n",
    "X = profile[features]\n",
    "X[['flag_mobile','flag_web','flag_social']] = best_channel_model.predict(X)\n",
    "X['difficulty'] = np.round(spend_model.predict(X[features]),0).astype(int)\n",
    "X['difficulty'] = X['difficulty'].apply(lambda x: calc_spend(x, cuts))\n",
    "X['duration'] = ttc_offer.predict(X[features])\n",
    "X[vec] = scaler.transform(X[vec])\n",
    "row = X[vec].values\n",
    "target_array = portfolio[vec].values\n",
    "\n",
    "dic_offers = {}\n",
    "for i, cli in tqdm(enumerate(row)):\n",
    "    distances = np.apply_along_axis(lambda x: euclidean(cli, x), axis = 1, arr = target_array)\n",
    "    offer = portfolio0[portfolio0.index == np.argmin(distances)]['id'].values[0]\n",
    "    id_cli = profile[profile.index == i]['id'].values[0]\n",
    "    dic_offers[id_cli] = offer\n",
    "    \n",
    "pr = pd.DataFrame(dic_offers.items(), columns = ['cli', 'offer'])"
   ]
  }
 ],
 "metadata": {
  "kernelspec": {
   "display_name": "Python 3",
   "language": "python",
   "name": "python3"
  },
  "language_info": {
   "codemirror_mode": {
    "name": "ipython",
    "version": 3
   },
   "file_extension": ".py",
   "mimetype": "text/x-python",
   "name": "python",
   "nbconvert_exporter": "python",
   "pygments_lexer": "ipython3",
   "version": "3.8.8"
  }
 },
 "nbformat": 4,
 "nbformat_minor": 5
}
