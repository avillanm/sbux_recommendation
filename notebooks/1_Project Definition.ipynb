{
 "cells": [
  {
   "attachments": {},
   "cell_type": "markdown",
   "metadata": {},
   "source": [
    "# 1. Project Overview\n",
    "We have information about the customer profile, offer portfolio, and transactions.  \n",
    "Based on this information, we need to identify which demographic group is more likely to respond to a particular offer.  \n",
    "However, what if we want to do this for new customers? We would obtain a powerful tool to evaluate all new customers and provide them with the offer that best suits their needs right from the start.\n",
    "\n",
    "# 2. Problem Statement\n",
    "The project aims to estimate the best recommendation for a new customer, using only gender, age, and annual income as input data. Based on these three variables, three different models are generated to help us choose the best offer:\n",
    "\n",
    "- Best contact channel model\n",
    "- Spending model\n",
    "- Time to complete the offer model\n",
    "\n",
    "By obtaining these three results for a new customer, we can approximate the closest offer that aligns with their needs.\n",
    "\n",
    "# Metrics\n",
    "Since these are three different models, the metrics we will use will also be different:\n",
    "\n",
    "- Best contact channel model: as a multi-output classifier model, for each target (in this case, contact channels), we will obtain the confusion matrix, as well as precision, recall, and F1 score for an overall assessment of the model's quality.\n",
    "- Spending model: as a regression model, we will use mean squared error and square root as goodness-of-fit measures for the model.\n",
    "- Time to complete the offer model: similarly, as a regression model, we will use mean squared error and square root as goodness-of-fit measures for the model."
   ]
  }
 ],
 "metadata": {
  "language_info": {
   "name": "python"
  },
  "orig_nbformat": 4
 },
 "nbformat": 4,
 "nbformat_minor": 2
}
